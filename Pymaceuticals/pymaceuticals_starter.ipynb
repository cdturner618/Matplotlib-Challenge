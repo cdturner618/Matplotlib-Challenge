{
 "cells": [
  {
   "cell_type": "markdown",
   "metadata": {},
   "source": [
    "## Observations and Insights "
   ]
  },
  {
   "cell_type": "markdown",
   "metadata": {},
   "source": []
  },
  {
   "cell_type": "code",
   "execution_count": 1,
   "metadata": {},
   "outputs": [
    {
     "data": {
      "text/html": [
       "<div>\n",
       "<style scoped>\n",
       "    .dataframe tbody tr th:only-of-type {\n",
       "        vertical-align: middle;\n",
       "    }\n",
       "\n",
       "    .dataframe tbody tr th {\n",
       "        vertical-align: top;\n",
       "    }\n",
       "\n",
       "    .dataframe thead th {\n",
       "        text-align: right;\n",
       "    }\n",
       "</style>\n",
       "<table border=\"1\" class=\"dataframe\">\n",
       "  <thead>\n",
       "    <tr style=\"text-align: right;\">\n",
       "      <th></th>\n",
       "      <th>Mouse ID</th>\n",
       "      <th>Drug Regimen</th>\n",
       "      <th>Sex</th>\n",
       "      <th>Age_months</th>\n",
       "      <th>Weight (g)</th>\n",
       "      <th>Timepoint</th>\n",
       "      <th>Tumor Volume (mm3)</th>\n",
       "      <th>Metastatic Sites</th>\n",
       "    </tr>\n",
       "  </thead>\n",
       "  <tbody>\n",
       "    <tr>\n",
       "      <th>0</th>\n",
       "      <td>k403</td>\n",
       "      <td>Ramicane</td>\n",
       "      <td>Male</td>\n",
       "      <td>21</td>\n",
       "      <td>16</td>\n",
       "      <td>0</td>\n",
       "      <td>45.000000</td>\n",
       "      <td>0</td>\n",
       "    </tr>\n",
       "    <tr>\n",
       "      <th>1</th>\n",
       "      <td>k403</td>\n",
       "      <td>Ramicane</td>\n",
       "      <td>Male</td>\n",
       "      <td>21</td>\n",
       "      <td>16</td>\n",
       "      <td>5</td>\n",
       "      <td>38.825898</td>\n",
       "      <td>0</td>\n",
       "    </tr>\n",
       "    <tr>\n",
       "      <th>2</th>\n",
       "      <td>k403</td>\n",
       "      <td>Ramicane</td>\n",
       "      <td>Male</td>\n",
       "      <td>21</td>\n",
       "      <td>16</td>\n",
       "      <td>10</td>\n",
       "      <td>35.014271</td>\n",
       "      <td>1</td>\n",
       "    </tr>\n",
       "    <tr>\n",
       "      <th>3</th>\n",
       "      <td>k403</td>\n",
       "      <td>Ramicane</td>\n",
       "      <td>Male</td>\n",
       "      <td>21</td>\n",
       "      <td>16</td>\n",
       "      <td>15</td>\n",
       "      <td>34.223992</td>\n",
       "      <td>1</td>\n",
       "    </tr>\n",
       "    <tr>\n",
       "      <th>4</th>\n",
       "      <td>k403</td>\n",
       "      <td>Ramicane</td>\n",
       "      <td>Male</td>\n",
       "      <td>21</td>\n",
       "      <td>16</td>\n",
       "      <td>20</td>\n",
       "      <td>32.997729</td>\n",
       "      <td>1</td>\n",
       "    </tr>\n",
       "    <tr>\n",
       "      <th>5</th>\n",
       "      <td>k403</td>\n",
       "      <td>Ramicane</td>\n",
       "      <td>Male</td>\n",
       "      <td>21</td>\n",
       "      <td>16</td>\n",
       "      <td>25</td>\n",
       "      <td>33.464577</td>\n",
       "      <td>1</td>\n",
       "    </tr>\n",
       "    <tr>\n",
       "      <th>6</th>\n",
       "      <td>k403</td>\n",
       "      <td>Ramicane</td>\n",
       "      <td>Male</td>\n",
       "      <td>21</td>\n",
       "      <td>16</td>\n",
       "      <td>30</td>\n",
       "      <td>31.099498</td>\n",
       "      <td>1</td>\n",
       "    </tr>\n",
       "    <tr>\n",
       "      <th>7</th>\n",
       "      <td>k403</td>\n",
       "      <td>Ramicane</td>\n",
       "      <td>Male</td>\n",
       "      <td>21</td>\n",
       "      <td>16</td>\n",
       "      <td>35</td>\n",
       "      <td>26.546993</td>\n",
       "      <td>1</td>\n",
       "    </tr>\n",
       "    <tr>\n",
       "      <th>8</th>\n",
       "      <td>k403</td>\n",
       "      <td>Ramicane</td>\n",
       "      <td>Male</td>\n",
       "      <td>21</td>\n",
       "      <td>16</td>\n",
       "      <td>40</td>\n",
       "      <td>24.365505</td>\n",
       "      <td>1</td>\n",
       "    </tr>\n",
       "    <tr>\n",
       "      <th>9</th>\n",
       "      <td>k403</td>\n",
       "      <td>Ramicane</td>\n",
       "      <td>Male</td>\n",
       "      <td>21</td>\n",
       "      <td>16</td>\n",
       "      <td>45</td>\n",
       "      <td>22.050126</td>\n",
       "      <td>1</td>\n",
       "    </tr>\n",
       "  </tbody>\n",
       "</table>\n",
       "</div>"
      ],
      "text/plain": [
       "  Mouse ID Drug Regimen   Sex  Age_months  Weight (g)  Timepoint  \\\n",
       "0     k403     Ramicane  Male          21          16          0   \n",
       "1     k403     Ramicane  Male          21          16          5   \n",
       "2     k403     Ramicane  Male          21          16         10   \n",
       "3     k403     Ramicane  Male          21          16         15   \n",
       "4     k403     Ramicane  Male          21          16         20   \n",
       "5     k403     Ramicane  Male          21          16         25   \n",
       "6     k403     Ramicane  Male          21          16         30   \n",
       "7     k403     Ramicane  Male          21          16         35   \n",
       "8     k403     Ramicane  Male          21          16         40   \n",
       "9     k403     Ramicane  Male          21          16         45   \n",
       "\n",
       "   Tumor Volume (mm3)  Metastatic Sites  \n",
       "0           45.000000                 0  \n",
       "1           38.825898                 0  \n",
       "2           35.014271                 1  \n",
       "3           34.223992                 1  \n",
       "4           32.997729                 1  \n",
       "5           33.464577                 1  \n",
       "6           31.099498                 1  \n",
       "7           26.546993                 1  \n",
       "8           24.365505                 1  \n",
       "9           22.050126                 1  "
      ]
     },
     "execution_count": 1,
     "metadata": {},
     "output_type": "execute_result"
    }
   ],
   "source": [
    "# Dependencies and Setup\n",
    "import matplotlib.pyplot as plt\n",
    "import pandas as pd\n",
    "import scipy.stats as st\n",
    "import numpy as np\n",
    "from scipy.stats import sem\n",
    "import random\n",
    "from scipy.stats import linregress\n",
    "from sklearn import datasets\n",
    "import scipy.stats as sts\n",
    "\n",
    "# Study data files\n",
    "mouse_metadata_path = \"data/Mouse_metadata.csv\"\n",
    "study_results_path = \"data/Study_results.csv\"\n",
    "\n",
    "# Read the mouse data and the study results\n",
    "mouse_metadata = pd.read_csv(mouse_metadata_path)\n",
    "study_results = pd.read_csv(study_results_path)\n",
    "\n",
    "#mouse_metadata.head()\n",
    "#study_results.head()\n",
    "\n",
    "# Combine the data into a single dataset\n",
    "merge_df=pd.merge(mouse_metadata,study_results, on=\"Mouse ID\")\n",
    "\n",
    "# Display the data table for preview\n",
    "merge_df.head(10)"
   ]
  },
  {
   "cell_type": "code",
   "execution_count": 2,
   "metadata": {},
   "outputs": [
    {
     "data": {
      "text/plain": [
       "Mouse ID              1893\n",
       "Drug Regimen          1893\n",
       "Sex                   1893\n",
       "Age_months            1893\n",
       "Weight (g)            1893\n",
       "Timepoint             1893\n",
       "Tumor Volume (mm3)    1893\n",
       "Metastatic Sites      1893\n",
       "dtype: int64"
      ]
     },
     "execution_count": 2,
     "metadata": {},
     "output_type": "execute_result"
    }
   ],
   "source": [
    "merge_df.count()"
   ]
  },
  {
   "cell_type": "code",
   "execution_count": 3,
   "metadata": {},
   "outputs": [
    {
     "data": {
      "text/plain": [
       "249"
      ]
     },
     "execution_count": 3,
     "metadata": {},
     "output_type": "execute_result"
    }
   ],
   "source": [
    "# Checking the number of mice.\n",
    "mouse_id=merge_df[\"Mouse ID\"].nunique()\n",
    "mouse_id"
   ]
  },
  {
   "cell_type": "code",
   "execution_count": 4,
   "metadata": {},
   "outputs": [
    {
     "data": {
      "text/plain": [
       "Mouse ID  Timepoint\n",
       "g989      15           2\n",
       "          0            2\n",
       "          10           2\n",
       "          5            2\n",
       "          20           2\n",
       "dtype: int64"
      ]
     },
     "execution_count": 4,
     "metadata": {},
     "output_type": "execute_result"
    }
   ],
   "source": [
    "# Getting the duplicate mice by ID number that shows up for Mouse ID and Timepoint. \n",
    "duplicate_mouse=merge_df[[\"Mouse ID\", \"Timepoint\"]].value_counts()\n",
    "duplicate_mouse.head()\n"
   ]
  },
  {
   "cell_type": "code",
   "execution_count": 5,
   "metadata": {},
   "outputs": [
    {
     "name": "stdout",
     "output_type": "stream",
     "text": [
      "         Drug Regimen     Sex  Age_months  Weight (g)  Timepoint  \\\n",
      "Mouse ID                                                           \n",
      "g989         Propriva  Female          21          26          0   \n",
      "g989         Propriva  Female          21          26          0   \n",
      "g989         Propriva  Female          21          26          5   \n",
      "g989         Propriva  Female          21          26          5   \n",
      "g989         Propriva  Female          21          26         10   \n",
      "g989         Propriva  Female          21          26         10   \n",
      "g989         Propriva  Female          21          26         15   \n",
      "g989         Propriva  Female          21          26         15   \n",
      "g989         Propriva  Female          21          26         20   \n",
      "g989         Propriva  Female          21          26         20   \n",
      "g989         Propriva  Female          21          26         25   \n",
      "g989         Propriva  Female          21          26         30   \n",
      "g989         Propriva  Female          21          26         35   \n",
      "\n",
      "          Tumor Volume (mm3)  Metastatic Sites  \n",
      "Mouse ID                                        \n",
      "g989               45.000000                 0  \n",
      "g989               45.000000                 0  \n",
      "g989               48.786801                 0  \n",
      "g989               47.570392                 0  \n",
      "g989               51.745156                 0  \n",
      "g989               49.880528                 0  \n",
      "g989               51.325852                 1  \n",
      "g989               53.442020                 0  \n",
      "g989               55.326122                 1  \n",
      "g989               54.657650                 1  \n",
      "g989               56.045564                 1  \n",
      "g989               59.082294                 1  \n",
      "g989               62.570880                 2  \n"
     ]
    }
   ],
   "source": [
    "# Optional: Get all the data for the duplicate mouse ID. \n",
    "df=merge_df.set_index(\"Mouse ID\")\n",
    "\n",
    "mouse_trap=df.loc[[\"g989\"][:]]\n",
    "print(mouse_trap)\n"
   ]
  },
  {
   "cell_type": "code",
   "execution_count": 6,
   "metadata": {},
   "outputs": [],
   "source": [
    "# Create a clean DataFrame by dropping the duplicate mouse by its ID.\n",
    "clean_house= merge_df.drop_duplicates(subset=[\"Mouse ID\",\"Timepoint\"])"
   ]
  },
  {
   "cell_type": "code",
   "execution_count": 7,
   "metadata": {},
   "outputs": [
    {
     "name": "stdout",
     "output_type": "stream",
     "text": [
      "         Drug Regimen     Sex  Age_months  Weight (g)  Timepoint  \\\n",
      "Mouse ID                                                           \n",
      "g989         Propriva  Female          21          26          0   \n",
      "g989         Propriva  Female          21          26          5   \n",
      "g989         Propriva  Female          21          26         10   \n",
      "g989         Propriva  Female          21          26         15   \n",
      "g989         Propriva  Female          21          26         20   \n",
      "g989         Propriva  Female          21          26         25   \n",
      "g989         Propriva  Female          21          26         30   \n",
      "g989         Propriva  Female          21          26         35   \n",
      "\n",
      "          Tumor Volume (mm3)  Metastatic Sites  \n",
      "Mouse ID                                        \n",
      "g989               45.000000                 0  \n",
      "g989               48.786801                 0  \n",
      "g989               51.745156                 0  \n",
      "g989               51.325852                 1  \n",
      "g989               55.326122                 1  \n",
      "g989               56.045564                 1  \n",
      "g989               59.082294                 1  \n",
      "g989               62.570880                 2  \n"
     ]
    }
   ],
   "source": [
    "# Checking the number of mice in the clean DataFrame.\n",
    "check_df=clean_house.set_index(\"Mouse ID\")\n",
    "\n",
    "check_trap=check_df.loc[[\"g989\"][:]]\n",
    "print(check_trap)\n"
   ]
  },
  {
   "cell_type": "markdown",
   "metadata": {},
   "source": [
    "## Summary Statistics"
   ]
  },
  {
   "cell_type": "code",
   "execution_count": 125,
   "metadata": {},
   "outputs": [
    {
     "data": {
      "text/plain": [
       "Capomulin    230\n",
       "Ramicane     228\n",
       "Ketapril     188\n",
       "Naftisol     186\n",
       "Zoniferol    182\n",
       "Placebo      181\n",
       "Stelasyn     181\n",
       "Infubinol    178\n",
       "Ceftamin     178\n",
       "Propriva     156\n",
       "Name: Drug Regimen, dtype: int64"
      ]
     },
     "execution_count": 125,
     "metadata": {},
     "output_type": "execute_result"
    }
   ],
   "source": [
    "# Generate a summary statistics table of mean, median, variance, standard deviation, and SEM of the tumor volume for each regimen\n",
    "table=clean_house[[\"Tumor Volume (mm3)\",\"Drug Regimen\"]]\n",
    "table[\"Drug Regimen\"].value_counts()"
   ]
  },
  {
   "cell_type": "code",
   "execution_count": 9,
   "metadata": {},
   "outputs": [
    {
     "name": "stdout",
     "output_type": "stream",
     "text": [
      "The mean Drug Regime of th study is: Tumor Volume (mm3)    50.45\n",
      "dtype: float64\n",
      "The median Drug Regime of th study is: Tumor Volume (mm3)    48.95\n",
      "dtype: float64\n",
      "The standard deviation of Drug Regime is: Tumor Volume (mm3)    8.9\n",
      "dtype: float64\n",
      "The Drug Regime variance using the NumPy module is Tumor Volume (mm3)    79.24928\n",
      "dtype: float64\n"
     ]
    }
   ],
   "source": [
    "# Use groupby and summary statistical methods to calculate the following properties of each drug regimen: \n",
    "#mean, median, variance, standard deviation, and SEM of the tumor volume. \n",
    "#tumor =clean_house[\"Tumor Volume (mm3)\"]\n",
    "\n",
    "print(f\"The mean Drug Regime of th study is: {round(table.mean(),2)}\")\n",
    "\n",
    "print(f\"The median Drug Regime of th study is: {round(table.median(),2)}\")\n",
    "\n",
    "print(f\"The standard deviation of Drug Regime is: {round(table.std(),2)}\")\n",
    "\n",
    "var_numpy = np.var(table,ddof = 0)\n",
    "print(f\"The Drug Regime variance using the NumPy module is {var_numpy}\")\n",
    "\n",
    "#why = table.sample(10)\n",
    "#print(f\"The SEM value for the sample Drug Regime data is {sem(why.Tumor Volume (mm3))}\")\n",
    "\n"
   ]
  },
  {
   "cell_type": "code",
   "execution_count": 10,
   "metadata": {},
   "outputs": [
    {
     "data": {
      "text/html": [
       "<div>\n",
       "<style scoped>\n",
       "    .dataframe tbody tr th:only-of-type {\n",
       "        vertical-align: middle;\n",
       "    }\n",
       "\n",
       "    .dataframe tbody tr th {\n",
       "        vertical-align: top;\n",
       "    }\n",
       "\n",
       "    .dataframe thead th {\n",
       "        text-align: right;\n",
       "    }\n",
       "</style>\n",
       "<table border=\"1\" class=\"dataframe\">\n",
       "  <thead>\n",
       "    <tr style=\"text-align: right;\">\n",
       "      <th></th>\n",
       "      <th></th>\n",
       "      <th>Tumor Volume (mm3)</th>\n",
       "    </tr>\n",
       "  </thead>\n",
       "  <tbody>\n",
       "    <tr>\n",
       "      <th>0</th>\n",
       "      <td>Mean</td>\n",
       "      <td>50.450</td>\n",
       "    </tr>\n",
       "    <tr>\n",
       "      <th>1</th>\n",
       "      <td>Median</td>\n",
       "      <td>48.950</td>\n",
       "    </tr>\n",
       "    <tr>\n",
       "      <th>2</th>\n",
       "      <td>Standard Deviation</td>\n",
       "      <td>8.902</td>\n",
       "    </tr>\n",
       "    <tr>\n",
       "      <th>3</th>\n",
       "      <td>Variance</td>\n",
       "      <td>79.240</td>\n",
       "    </tr>\n",
       "  </tbody>\n",
       "</table>\n",
       "</div>"
      ],
      "text/plain": [
       "                       Tumor Volume (mm3)\n",
       "0                Mean              50.450\n",
       "1              Median              48.950\n",
       "2  Standard Deviation               8.902\n",
       "3            Variance              79.240"
      ]
     },
     "execution_count": 10,
     "metadata": {},
     "output_type": "execute_result"
    }
   ],
   "source": [
    "# Assemble the resulting series into a single summary dataframe.\n",
    "Tumor_Statistics=pd.DataFrame({\"\":[\"Mean\",\"Median\",\"Standard Deviation\",\"Variance\"],\n",
    "                              \"Tumor Volume (mm3)\":[50.45,48.95,8.902,79.24]})\n",
    "Tumor_Statistics"
   ]
  },
  {
   "cell_type": "code",
   "execution_count": 11,
   "metadata": {},
   "outputs": [],
   "source": [
    "# Generate a summary statistics table of mean, median, variance, standard deviation, and SEM of the tumor volume for each regimen\n",
    "\n",
    "# Using the aggregation method, produce the same summary statistics in a single line\n"
   ]
  },
  {
   "cell_type": "markdown",
   "metadata": {},
   "source": [
    "## Bar and Pie Charts"
   ]
  },
  {
   "cell_type": "code",
   "execution_count": 12,
   "metadata": {},
   "outputs": [
    {
     "data": {
      "text/plain": [
       "array(['Ramicane', 'Capomulin', 'Infubinol', 'Placebo', 'Ceftamin',\n",
       "       'Stelasyn', 'Zoniferol', 'Ketapril', 'Propriva', 'Naftisol'],\n",
       "      dtype=object)"
      ]
     },
     "execution_count": 12,
     "metadata": {},
     "output_type": "execute_result"
    }
   ],
   "source": [
    "# Generate a bar plot showing the total number of measurements taken on each drug regimen using pyplot.\n",
    "Drugs= clean_house[\"Drug Regimen\"].unique()\n",
    "Drugs\n"
   ]
  },
  {
   "cell_type": "code",
   "execution_count": 13,
   "metadata": {},
   "outputs": [
    {
     "data": {
      "text/html": [
       "<div>\n",
       "<style scoped>\n",
       "    .dataframe tbody tr th:only-of-type {\n",
       "        vertical-align: middle;\n",
       "    }\n",
       "\n",
       "    .dataframe tbody tr th {\n",
       "        vertical-align: top;\n",
       "    }\n",
       "\n",
       "    .dataframe thead th {\n",
       "        text-align: right;\n",
       "    }\n",
       "</style>\n",
       "<table border=\"1\" class=\"dataframe\">\n",
       "  <thead>\n",
       "    <tr style=\"text-align: right;\">\n",
       "      <th></th>\n",
       "      <th>Tumor Volume (mm3)</th>\n",
       "    </tr>\n",
       "    <tr>\n",
       "      <th>Drug Regimen</th>\n",
       "      <th></th>\n",
       "    </tr>\n",
       "  </thead>\n",
       "  <tbody>\n",
       "    <tr>\n",
       "      <th>Capomulin</th>\n",
       "      <td>230</td>\n",
       "    </tr>\n",
       "    <tr>\n",
       "      <th>Ceftamin</th>\n",
       "      <td>178</td>\n",
       "    </tr>\n",
       "    <tr>\n",
       "      <th>Infubinol</th>\n",
       "      <td>178</td>\n",
       "    </tr>\n",
       "    <tr>\n",
       "      <th>Ketapril</th>\n",
       "      <td>188</td>\n",
       "    </tr>\n",
       "    <tr>\n",
       "      <th>Naftisol</th>\n",
       "      <td>186</td>\n",
       "    </tr>\n",
       "    <tr>\n",
       "      <th>Placebo</th>\n",
       "      <td>181</td>\n",
       "    </tr>\n",
       "    <tr>\n",
       "      <th>Propriva</th>\n",
       "      <td>156</td>\n",
       "    </tr>\n",
       "    <tr>\n",
       "      <th>Ramicane</th>\n",
       "      <td>228</td>\n",
       "    </tr>\n",
       "    <tr>\n",
       "      <th>Stelasyn</th>\n",
       "      <td>181</td>\n",
       "    </tr>\n",
       "    <tr>\n",
       "      <th>Zoniferol</th>\n",
       "      <td>182</td>\n",
       "    </tr>\n",
       "  </tbody>\n",
       "</table>\n",
       "</div>"
      ],
      "text/plain": [
       "              Tumor Volume (mm3)\n",
       "Drug Regimen                    \n",
       "Capomulin                    230\n",
       "Ceftamin                     178\n",
       "Infubinol                    178\n",
       "Ketapril                     188\n",
       "Naftisol                     186\n",
       "Placebo                      181\n",
       "Propriva                     156\n",
       "Ramicane                     228\n",
       "Stelasyn                     181\n",
       "Zoniferol                    182"
      ]
     },
     "execution_count": 13,
     "metadata": {},
     "output_type": "execute_result"
    }
   ],
   "source": [
    "Drug_Measurments=table.groupby([\"Drug Regimen\"]).count()\n",
    "Drug_Measurments"
   ]
  },
  {
   "cell_type": "code",
   "execution_count": 14,
   "metadata": {},
   "outputs": [
    {
     "data": {
      "text/plain": [
       "([<matplotlib.axis.XTick at 0x2490a7dfaf0>,\n",
       "  <matplotlib.axis.XTick at 0x2490a7dfac0>,\n",
       "  <matplotlib.axis.XTick at 0x2490a7d3700>,\n",
       "  <matplotlib.axis.XTick at 0x2490aa87130>,\n",
       "  <matplotlib.axis.XTick at 0x2490aa87490>,\n",
       "  <matplotlib.axis.XTick at 0x2490aa879a0>,\n",
       "  <matplotlib.axis.XTick at 0x2490aa87eb0>,\n",
       "  <matplotlib.axis.XTick at 0x2490aa8f400>,\n",
       "  <matplotlib.axis.XTick at 0x2490aa8f910>,\n",
       "  <matplotlib.axis.XTick at 0x2490aa8fe20>],\n",
       " [Text(0, 0, 'Capomulin'),\n",
       "  Text(1, 0, 'Ceftamin'),\n",
       "  Text(2, 0, 'Infubinol'),\n",
       "  Text(3, 0, 'Ketapril'),\n",
       "  Text(4, 0, 'Naftisol'),\n",
       "  Text(5, 0, 'Placebo'),\n",
       "  Text(6, 0, 'Propriva'),\n",
       "  Text(7, 0, 'Ramicane'),\n",
       "  Text(8, 0, 'Stelasyn'),\n",
       "  Text(9, 0, 'Zoniferol')])"
      ]
     },
     "execution_count": 14,
     "metadata": {},
     "output_type": "execute_result"
    },
    {
     "data": {
      "image/png": "[encoded data removed]",
      "text/plain": [
       "<Figure size 432x288 with 1 Axes>"
      ]
     },
     "metadata": {
      "needs_background": "light"
     },
     "output_type": "display_data"
    }
   ],
   "source": [
    "Tumor_Volume= [230,178,178,188,186,181,156,228,181,182]\n",
    "x_axis=np.arange(len(Tumor_Volume))\n",
    "\n",
    "plt.bar(x_axis,Tumor_Volume,alpha=0.5, align=\"center\")\n",
    "\n",
    "# Give our chart some labels and a tile\n",
    "plt.title(\"Total Volume of Drug Regimen\")\n",
    "plt.xlabel(\"Drug Regimen\")\n",
    "plt.ylabel(\"Total Volume (mm3)\")\n",
    "\n",
    "# Tell matplotlib where we would like to place each of our x axis headers\n",
    "tick_locations = [value for value in x_axis]\n",
    "plt.xticks(tick_locations, [\"Capomulin\", \"Ceftamin\", \"Infubinol\", \"Ketapril\", \"Naftisol\",\"Placebo\", \"Propriva\", \"Ramicane\", \"Stelasyn\", \"Zoniferol\"], rotation=\"vertical\")"
   ]
  },
  {
   "cell_type": "code",
   "execution_count": 15,
   "metadata": {},
   "outputs": [
    {
     "data": {
      "image/png": "[encoded data removed]",
      "text/plain": [
       "<Figure size 432x288 with 1 Axes>"
      ]
     },
     "metadata": {
      "needs_background": "light"
     },
     "output_type": "display_data"
    },
    {
     "data": {
      "text/plain": [
       "<Figure size 432x288 with 0 Axes>"
      ]
     },
     "metadata": {},
     "output_type": "display_data"
    }
   ],
   "source": [
    "# Generate a bar plot showing the total number of measurements taken on each drug regimen using pandas.\n",
    "# Use DataFrame.plot() in order to create a bar chart of the data\n",
    "Drug_Measurments.plot(kind=\"bar\")\n",
    "\n",
    "# Set a title for the chart\n",
    "plt.title(\"Total Volume of Drug Regimen\")\n",
    "plt.show()\n",
    "plt.tight_layout()"
   ]
  },
  {
   "cell_type": "code",
   "execution_count": 16,
   "metadata": {},
   "outputs": [
    {
     "data": {
      "text/plain": [
       "Male      958\n",
       "Female    930\n",
       "Name: Sex, dtype: int64"
      ]
     },
     "execution_count": 16,
     "metadata": {},
     "output_type": "execute_result"
    }
   ],
   "source": [
    "# Generate a pie plot showing the distribution of female versus male mice using pandas\n",
    "Sex=clean_house[\"Sex\"].value_counts()\n",
    "Sex\n"
   ]
  },
  {
   "cell_type": "code",
   "execution_count": 17,
   "metadata": {},
   "outputs": [
    {
     "data": {
      "text/plain": [
       "<AxesSubplot:ylabel='Sex'>"
      ]
     },
     "execution_count": 17,
     "metadata": {},
     "output_type": "execute_result"
    },
    {
     "data": {
      "image/png": "[encoded data removed]",
      "text/plain": [
       "<Figure size 432x288 with 1 Axes>"
      ]
     },
     "metadata": {},
     "output_type": "display_data"
    }
   ],
   "source": [
    "explode= (0.05,0)\n",
    "Sex.plot(kind=\"pie\",autopct=\"%1.1f%%\", shadow=True,explode=explode)\n"
   ]
  },
  {
   "cell_type": "code",
   "execution_count": 18,
   "metadata": {},
   "outputs": [
    {
     "data": {
      "text/plain": [
       "([<matplotlib.patches.Wedge at 0x2490acbc160>,\n",
       "  <matplotlib.patches.Wedge at 0x2490acbc7f0>],\n",
       " [Text(-0.026088765863832748, 1.1196961089044215, 'Male'),\n",
       "  Text(0.025622792083347525, -1.099701537930112, 'Female')],\n",
       " [Text(-0.014441995388907414, 0.6198317745720905, '50.7%'),\n",
       "  Text(0.01397606840909865, -0.5998372025073339, '49.3%')])"
      ]
     },
     "execution_count": 18,
     "metadata": {},
     "output_type": "execute_result"
    },
    {
     "data": {
      "image/png": "[encoded data removed]",
      "text/plain": [
       "<Figure size 432x288 with 1 Axes>"
      ]
     },
     "metadata": {},
     "output_type": "display_data"
    }
   ],
   "source": [
    "# Generate a pie plot showing the distribution of female versus male mice using pyplot\n",
    "Ratio=[958,930]\n",
    "Male_vs_Female=[\"Male\",\"Female\"]\n",
    "explode= (0.02,0)\n",
    "\n",
    "plt.pie(Ratio,explode=explode,labels=Male_vs_Female,autopct=\"%1.1f%%\")\n"
   ]
  },
  {
   "cell_type": "code",
   "execution_count": null,
   "metadata": {},
   "outputs": [],
   "source": []
  },
  {
   "cell_type": "markdown",
   "metadata": {},
   "source": [
    "## Quartiles, Outliers and Boxplots"
   ]
  },
  {
   "cell_type": "code",
   "execution_count": 19,
   "metadata": {},
   "outputs": [
    {
     "data": {
      "text/html": [
       "<div>\n",
       "<style scoped>\n",
       "    .dataframe tbody tr th:only-of-type {\n",
       "        vertical-align: middle;\n",
       "    }\n",
       "\n",
       "    .dataframe tbody tr th {\n",
       "        vertical-align: top;\n",
       "    }\n",
       "\n",
       "    .dataframe thead th {\n",
       "        text-align: right;\n",
       "    }\n",
       "</style>\n",
       "<table border=\"1\" class=\"dataframe\">\n",
       "  <thead>\n",
       "    <tr style=\"text-align: right;\">\n",
       "      <th></th>\n",
       "      <th>Mouse ID</th>\n",
       "      <th>Drug Regimen</th>\n",
       "      <th>Sex</th>\n",
       "      <th>Age_months</th>\n",
       "      <th>Weight (g)</th>\n",
       "      <th>Timepoint</th>\n",
       "      <th>Tumor Volume (mm3)</th>\n",
       "      <th>Metastatic Sites</th>\n",
       "    </tr>\n",
       "  </thead>\n",
       "  <tbody>\n",
       "    <tr>\n",
       "      <th>0</th>\n",
       "      <td>k403</td>\n",
       "      <td>Ramicane</td>\n",
       "      <td>Male</td>\n",
       "      <td>21</td>\n",
       "      <td>16</td>\n",
       "      <td>0</td>\n",
       "      <td>45.000000</td>\n",
       "      <td>0</td>\n",
       "    </tr>\n",
       "    <tr>\n",
       "      <th>1</th>\n",
       "      <td>k403</td>\n",
       "      <td>Ramicane</td>\n",
       "      <td>Male</td>\n",
       "      <td>21</td>\n",
       "      <td>16</td>\n",
       "      <td>5</td>\n",
       "      <td>38.825898</td>\n",
       "      <td>0</td>\n",
       "    </tr>\n",
       "    <tr>\n",
       "      <th>2</th>\n",
       "      <td>k403</td>\n",
       "      <td>Ramicane</td>\n",
       "      <td>Male</td>\n",
       "      <td>21</td>\n",
       "      <td>16</td>\n",
       "      <td>10</td>\n",
       "      <td>35.014271</td>\n",
       "      <td>1</td>\n",
       "    </tr>\n",
       "    <tr>\n",
       "      <th>3</th>\n",
       "      <td>k403</td>\n",
       "      <td>Ramicane</td>\n",
       "      <td>Male</td>\n",
       "      <td>21</td>\n",
       "      <td>16</td>\n",
       "      <td>15</td>\n",
       "      <td>34.223992</td>\n",
       "      <td>1</td>\n",
       "    </tr>\n",
       "    <tr>\n",
       "      <th>4</th>\n",
       "      <td>k403</td>\n",
       "      <td>Ramicane</td>\n",
       "      <td>Male</td>\n",
       "      <td>21</td>\n",
       "      <td>16</td>\n",
       "      <td>20</td>\n",
       "      <td>32.997729</td>\n",
       "      <td>1</td>\n",
       "    </tr>\n",
       "    <tr>\n",
       "      <th>...</th>\n",
       "      <td>...</td>\n",
       "      <td>...</td>\n",
       "      <td>...</td>\n",
       "      <td>...</td>\n",
       "      <td>...</td>\n",
       "      <td>...</td>\n",
       "      <td>...</td>\n",
       "      <td>...</td>\n",
       "    </tr>\n",
       "    <tr>\n",
       "      <th>1888</th>\n",
       "      <td>z969</td>\n",
       "      <td>Naftisol</td>\n",
       "      <td>Male</td>\n",
       "      <td>9</td>\n",
       "      <td>30</td>\n",
       "      <td>25</td>\n",
       "      <td>63.145652</td>\n",
       "      <td>2</td>\n",
       "    </tr>\n",
       "    <tr>\n",
       "      <th>1889</th>\n",
       "      <td>z969</td>\n",
       "      <td>Naftisol</td>\n",
       "      <td>Male</td>\n",
       "      <td>9</td>\n",
       "      <td>30</td>\n",
       "      <td>30</td>\n",
       "      <td>65.841013</td>\n",
       "      <td>3</td>\n",
       "    </tr>\n",
       "    <tr>\n",
       "      <th>1890</th>\n",
       "      <td>z969</td>\n",
       "      <td>Naftisol</td>\n",
       "      <td>Male</td>\n",
       "      <td>9</td>\n",
       "      <td>30</td>\n",
       "      <td>35</td>\n",
       "      <td>69.176246</td>\n",
       "      <td>4</td>\n",
       "    </tr>\n",
       "    <tr>\n",
       "      <th>1891</th>\n",
       "      <td>z969</td>\n",
       "      <td>Naftisol</td>\n",
       "      <td>Male</td>\n",
       "      <td>9</td>\n",
       "      <td>30</td>\n",
       "      <td>40</td>\n",
       "      <td>70.314904</td>\n",
       "      <td>4</td>\n",
       "    </tr>\n",
       "    <tr>\n",
       "      <th>1892</th>\n",
       "      <td>z969</td>\n",
       "      <td>Naftisol</td>\n",
       "      <td>Male</td>\n",
       "      <td>9</td>\n",
       "      <td>30</td>\n",
       "      <td>45</td>\n",
       "      <td>73.867845</td>\n",
       "      <td>4</td>\n",
       "    </tr>\n",
       "  </tbody>\n",
       "</table>\n",
       "<p>1888 rows × 8 columns</p>\n",
       "</div>"
      ],
      "text/plain": [
       "     Mouse ID Drug Regimen   Sex  Age_months  Weight (g)  Timepoint  \\\n",
       "0        k403     Ramicane  Male          21          16          0   \n",
       "1        k403     Ramicane  Male          21          16          5   \n",
       "2        k403     Ramicane  Male          21          16         10   \n",
       "3        k403     Ramicane  Male          21          16         15   \n",
       "4        k403     Ramicane  Male          21          16         20   \n",
       "...       ...          ...   ...         ...         ...        ...   \n",
       "1888     z969     Naftisol  Male           9          30         25   \n",
       "1889     z969     Naftisol  Male           9          30         30   \n",
       "1890     z969     Naftisol  Male           9          30         35   \n",
       "1891     z969     Naftisol  Male           9          30         40   \n",
       "1892     z969     Naftisol  Male           9          30         45   \n",
       "\n",
       "      Tumor Volume (mm3)  Metastatic Sites  \n",
       "0              45.000000                 0  \n",
       "1              38.825898                 0  \n",
       "2              35.014271                 1  \n",
       "3              34.223992                 1  \n",
       "4              32.997729                 1  \n",
       "...                  ...               ...  \n",
       "1888           63.145652                 2  \n",
       "1889           65.841013                 3  \n",
       "1890           69.176246                 4  \n",
       "1891           70.314904                 4  \n",
       "1892           73.867845                 4  \n",
       "\n",
       "[1888 rows x 8 columns]"
      ]
     },
     "execution_count": 19,
     "metadata": {},
     "output_type": "execute_result"
    }
   ],
   "source": [
    "clean_house"
   ]
  },
  {
   "cell_type": "code",
   "execution_count": 100,
   "metadata": {},
   "outputs": [],
   "source": [
    "# Calculate the final tumor volume of each mouse across four of the treatment regimens: \n",
    "# Capomulin, Ramicane, Infubinol, and Ceftamin\n",
    "# Start by getting the last (greatest) timepoint for each mouse\n",
    "Time=clean_house[[\"Mouse ID\",\"Timepoint\",\"Tumor Volume (mm3)\",\"Drug Regimen\"]]\n",
    "Point=Time.groupby(\"Mouse ID\").max()\n",
    "Time_Point=pd.DataFrame(Point)\n",
    "Time_Point[\"Drug Regimen\"].unique()\n",
    "Time_Point=Time_Point.reset_index(drop=False)\n",
    "\n",
    "Capomulin=Time_Point.loc[Time_Point[\"Drug Regimen\"]==\"Capomulin\"]\n",
    "Capomulin_Volume=Capomulin[\"Tumor Volume (mm3)\"]\n",
    "\n",
    "Ramicane=Time_Point.loc[Time_Point[\"Drug Regimen\"]==\"Ramicane\"]\n",
    "Ramicane_Volume=Ramicane[\"Tumor Volume (mm3)\"]\n",
    "\n",
    "Infubinol=Time_Point.loc[Time_Point[\"Drug Regimen\"]==\"Infubinol\"]\n",
    "Infubinol_Volume=Infubinol[\"Tumor Volume (mm3)\"]\n",
    "\n",
    "Ceftamin=Time_Point.loc[Time_Point[\"Drug Regimen\"]==\"Ceftamin\"]\n",
    "Ceftamin_Volume=Ceftamin[\"Tumor Volume (mm3)\"]\n",
    "\n",
    "# Merge this group df with the original dataframe to get the tumor volume at the last timepoint\n"
   ]
  },
  {
   "cell_type": "code",
   "execution_count": 133,
   "metadata": {},
   "outputs": [
    {
     "name": "stdout",
     "output_type": "stream",
     "text": [
      "0.25    45.000000\n",
      "0.50    45.893720\n",
      "0.75    46.749006\n",
      "Name: Tumor Volume (mm3), dtype: float64\n",
      "The lower quartile of Volumes is: 45.0\n",
      "The upper quartile of Volumes is: 46.74900552\n",
      "The interquartile range of Volumes is: 1.7490055199999972\n",
      "The the median of Volumes is: 45.89372032 \n",
      "Values below 42.376491720000004 could be outliers.\n",
      "Values above 49.37251379999999 could be outliers.\n"
     ]
    },
    {
     "data": {
      "text/plain": [
       "Text(0, 0.5, 'Tumor Volume (mm3)')"
      ]
     },
     "execution_count": 133,
     "metadata": {},
     "output_type": "execute_result"
    },
    {
     "data": {
      "image/png": "[encoded data removed]",
      "text/plain": [
       "<Figure size 432x288 with 1 Axes>"
      ]
     },
     "metadata": {
      "needs_background": "light"
     },
     "output_type": "display_data"
    }
   ],
   "source": [
    "# Calculate the IQR and quantitatively determine if there are any potential outliers. \n",
    "quartiles = Capomulin_Volume.quantile([.25,.5,.75])\n",
    "print(quartiles)\n",
    "lowerq = quartiles[0.25]\n",
    "upperq = quartiles[0.75]\n",
    "iqr = upperq-lowerq\n",
    "print(f\"The lower quartile of Volumes is: {lowerq}\")\n",
    "print(f\"The upper quartile of Volumes is: {upperq}\")\n",
    "print(f\"The interquartile range of Volumes is: {iqr}\")\n",
    "print(f\"The the median of Volumes is: {quartiles[0.5]} \")\n",
    "\n",
    "lower_bound = lowerq - (1.5*iqr)\n",
    "upper_bound = upperq + (1.5*iqr)\n",
    "print(f\"Values below {lower_bound} could be outliers.\")\n",
    "print(f\"Values above {upper_bound} could be outliers.\")\n",
    "\n",
    "# Generate a box plot of the final tumor volume of each mouse across four regimens of interest\n",
    "plot1=Capomulin[\"Tumor Volume (mm3)\"]\n",
    "plt.boxplot(plot1)\n",
    "plt.title('Capomulin Final Tumor Volumes')\n",
    "plt.ylabel(\"Tumor Volume (mm3)\")"
   ]
  },
  {
   "cell_type": "code",
   "execution_count": 127,
   "metadata": {},
   "outputs": [
    {
     "name": "stdout",
     "output_type": "stream",
     "text": [
      "0.25    45.000000\n",
      "0.50    45.521875\n",
      "0.75    46.343832\n",
      "Name: Tumor Volume (mm3), dtype: float64\n",
      "The lower quartile of Volumes is: 45.0\n",
      "The upper quartile of Volumes is: 46.34383237\n",
      "The interquartile range of Volumes is: 1.3438323700000012\n",
      "The the median of Volumes is: 45.52187471 \n",
      "Values below 42.984251445 could be outliers.\n",
      "Values above 48.359580925 could be outliers.\n"
     ]
    },
    {
     "data": {
      "text/plain": [
       "Text(0, 0.5, 'Tumor Volume (mm3)')"
      ]
     },
     "execution_count": 127,
     "metadata": {},
     "output_type": "execute_result"
    },
    {
     "data": {
      "image/png": "[encoded data removed]",
      "text/plain": [
       "<Figure size 432x288 with 1 Axes>"
      ]
     },
     "metadata": {
      "needs_background": "light"
     },
     "output_type": "display_data"
    }
   ],
   "source": [
    "# Calculate the IQR and quantitatively determine if there are any potential outliers. \n",
    "quartiles = Ramicane_Volume.quantile([.25,.5,.75])\n",
    "print(quartiles)\n",
    "lowerq = quartiles[0.25]\n",
    "upperq = quartiles[0.75]\n",
    "iqr = upperq-lowerq\n",
    "print(f\"The lower quartile of Volumes is: {lowerq}\")\n",
    "print(f\"The upper quartile of Volumes is: {upperq}\")\n",
    "print(f\"The interquartile range of Volumes is: {iqr}\")\n",
    "print(f\"The the median of Volumes is: {quartiles[0.5]} \")\n",
    "\n",
    "lower_bound = lowerq - (1.5*iqr)\n",
    "upper_bound = upperq + (1.5*iqr)\n",
    "print(f\"Values below {lower_bound} could be outliers.\")\n",
    "print(f\"Values above {upper_bound} could be outliers.\")\n",
    "# Generate a box plot of the final tumor volume of each mouse across four regimens of interest\n",
    "plot2=Ramicane[\"Tumor Volume (mm3)\"]\n",
    "plt.boxplot(plot2)\n",
    "plt.title('Ramicane Final Tumor Volumes')\n",
    "plt.ylabel(\"Tumor Volume (mm3)\")"
   ]
  },
  {
   "cell_type": "code",
   "execution_count": 128,
   "metadata": {},
   "outputs": [
    {
     "name": "stdout",
     "output_type": "stream",
     "text": [
      "0.25    54.048608\n",
      "0.50    60.165180\n",
      "0.75    65.525743\n",
      "Name: Tumor Volume (mm3), dtype: float64\n",
      "The lower quartile of Volumes is: 54.04860769\n",
      "The upper quartile of Volumes is: 65.52574285\n",
      "The interquartile range of Volumes is: 11.477135160000003\n",
      "The the median of Volumes is: 60.16518046 \n",
      "Values below 36.83290494999999 could be outliers.\n",
      "Values above 82.74144559000001 could be outliers.\n"
     ]
    },
    {
     "data": {
      "text/plain": [
       "Text(0, 0.5, 'Tumor Volume (mm3)')"
      ]
     },
     "execution_count": 128,
     "metadata": {},
     "output_type": "execute_result"
    },
    {
     "data": {
      "image/png": "[encoded data removed]",
      "text/plain": [
       "<Figure size 432x288 with 1 Axes>"
      ]
     },
     "metadata": {
      "needs_background": "light"
     },
     "output_type": "display_data"
    }
   ],
   "source": [
    "# Calculate the IQR and quantitatively determine if there are any potential outliers. \n",
    "quartiles = Infubinol_Volume.quantile([.25,.5,.75])\n",
    "print(quartiles)\n",
    "lowerq = quartiles[0.25]\n",
    "upperq = quartiles[0.75]\n",
    "iqr = upperq-lowerq\n",
    "print(f\"The lower quartile of Volumes is: {lowerq}\")\n",
    "print(f\"The upper quartile of Volumes is: {upperq}\")\n",
    "print(f\"The interquartile range of Volumes is: {iqr}\")\n",
    "print(f\"The the median of Volumes is: {quartiles[0.5]} \")\n",
    "\n",
    "lower_bound = lowerq - (1.5*iqr)\n",
    "upper_bound = upperq + (1.5*iqr)\n",
    "print(f\"Values below {lower_bound} could be outliers.\")\n",
    "print(f\"Values above {upper_bound} could be outliers.\")\n",
    "\n",
    "# Generate a box plot of the final tumor volume of each mouse across four regimens of interest\n",
    "plot3=Infubinol[\"Tumor Volume (mm3)\"]\n",
    "plt.boxplot(plot3)\n",
    "plt.title('Infubinol Final Tumor Volumes')\n",
    "plt.ylabel(\"Tumor Volume (mm3)\")"
   ]
  },
  {
   "cell_type": "code",
   "execution_count": 129,
   "metadata": {},
   "outputs": [
    {
     "name": "stdout",
     "output_type": "stream",
     "text": [
      "0.25    48.722078\n",
      "0.50    59.851956\n",
      "0.75    64.299830\n",
      "Name: Tumor Volume (mm3), dtype: float64\n",
      "The lower quartile of Volumes is: 48.72207785\n",
      "The upper quartile of Volumes is: 64.29983003\n",
      "The interquartile range of Volumes is: 15.577752179999997\n",
      "The the median of Volumes is: 59.85195552 \n",
      "Values below 25.355449580000002 could be outliers.\n",
      "Values above 87.66645829999999 could be outliers.\n"
     ]
    },
    {
     "data": {
      "text/plain": [
       "Text(0, 0.5, 'Tumor Volume (mm3)')"
      ]
     },
     "execution_count": 129,
     "metadata": {},
     "output_type": "execute_result"
    },
    {
     "data": {
      "image/png": "[encoded data removed]",
      "text/plain": [
       "<Figure size 432x288 with 1 Axes>"
      ]
     },
     "metadata": {
      "needs_background": "light"
     },
     "output_type": "display_data"
    }
   ],
   "source": [
    "# Calculate the IQR and quantitatively determine if there are any potential outliers. \n",
    "quartiles = Ceftamin_Volume.quantile([.25,.5,.75])\n",
    "print(quartiles)\n",
    "lowerq = quartiles[0.25]\n",
    "upperq = quartiles[0.75]\n",
    "iqr = upperq-lowerq\n",
    "print(f\"The lower quartile of Volumes is: {lowerq}\")\n",
    "print(f\"The upper quartile of Volumes is: {upperq}\")\n",
    "print(f\"The interquartile range of Volumes is: {iqr}\")\n",
    "print(f\"The the median of Volumes is: {quartiles[0.5]} \")\n",
    "\n",
    "lower_bound = lowerq - (1.5*iqr)\n",
    "upper_bound = upperq + (1.5*iqr)\n",
    "print(f\"Values below {lower_bound} could be outliers.\")\n",
    "print(f\"Values above {upper_bound} could be outliers.\")\n",
    "\n",
    "# Generate a box plot of the final tumor volume of each mouse across four regimens of interest\n",
    "plot4=Ceftamin[\"Tumor Volume (mm3)\"]\n",
    "plt.boxplot(plot4)\n",
    "plt.title('Ceftamin Final Tumor Volumes')\n",
    "plt.ylabel(\"Tumor Volume (mm3)\")"
   ]
  },
  {
   "cell_type": "code",
   "execution_count": 131,
   "metadata": {},
   "outputs": [
    {
     "data": {
      "text/plain": [
       "Text(0, 0.5, 'Tumor Volume (mm3)')"
      ]
     },
     "execution_count": 131,
     "metadata": {},
     "output_type": "execute_result"
    },
    {
     "data": {
      "image/png": "[encoded data removed]",
      "text/plain": [
       "<Figure size 432x288 with 1 Axes>"
      ]
     },
     "metadata": {
      "needs_background": "light"
     },
     "output_type": "display_data"
    }
   ],
   "source": [
    "# Generate a box plot of the final tumor volume of each mouse across four regimens of interest\n",
    "plot5=[plot1,plot2,plot3,plot4]\n",
    "plt.boxplot(plot5)\n",
    "plt.title(\"Final Tumor Volumes for Multiple Regimens\")\n",
    "plt.ylabel(\"Tumor Volume (mm3)\")"
   ]
  },
  {
   "cell_type": "code",
   "execution_count": 134,
   "metadata": {},
   "outputs": [],
   "source": [
    "# Put treatments into a list for for loop (and later for plot labels)\n",
    "Treatments=[\"Capomulin\",\"Ramicane\",\"Infubinol\",\"Ceftamin\"]\n",
    "\n",
    "# Create empty list to fill with tumor vol data (for plotting)\n",
    "Tumor_Volume=[]\n",
    "\n",
    "# Calculate the IQR and quantitatively determine if there are any potential outliers. \n",
    "\n",
    "    \n",
    "    # Locate the rows which contain mice on each drug and get the tumor volume\n",
    "    \n",
    "    \n",
    "    # add subset  \n",
    "    \n"
   ]
  },
  {
   "cell_type": "code",
   "execution_count": null,
   "metadata": {},
   "outputs": [],
   "source": [
    "# Generate a box plot of the final tumor volume of each mouse across four regimens of interest\n"
   ]
  },
  {
   "cell_type": "markdown",
   "metadata": {},
   "source": [
    "## Line and Scatter Plots"
   ]
  },
  {
   "cell_type": "code",
   "execution_count": null,
   "metadata": {},
   "outputs": [],
   "source": [
    "# Generate a line plot of tumor volume vs. time point for a mouse treated with Capomulin\n"
   ]
  },
  {
   "cell_type": "code",
   "execution_count": null,
   "metadata": {},
   "outputs": [],
   "source": [
    "# Generate a scatter plot of average tumor volume vs. mouse weight for the Capomulin regimen\n"
   ]
  },
  {
   "cell_type": "markdown",
   "metadata": {},
   "source": [
    "## Correlation and Regression"
   ]
  },
  {
   "cell_type": "code",
   "execution_count": null,
   "metadata": {},
   "outputs": [],
   "source": [
    "# Calculate the correlation coefficient and linear regression model \n",
    "# for mouse weight and average tumor volume for the Capomulin regimen\n"
   ]
  },
  {
   "cell_type": "code",
   "execution_count": null,
   "metadata": {},
   "outputs": [],
   "source": []
  }
 ],
 "metadata": {
  "anaconda-cloud": {},
  "kernelspec": {
   "display_name": "Python 3",
   "language": "python",
   "name": "python3"
  },
  "language_info": {
   "codemirror_mode": {
    "name": "ipython",
    "version": 3
   },
   "file_extension": ".py",
   "mimetype": "text/x-python",
   "name": "python",
   "nbconvert_exporter": "python",
   "pygments_lexer": "ipython3",
   "version": "3.8.5"
  }
 },
 "nbformat": 4,
 "nbformat_minor": 4
}
